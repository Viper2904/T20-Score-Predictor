{
  "metadata": {
    "kernelspec": {
      "name": "python",
      "display_name": "Python (Pyodide)",
      "language": "python"
    },
    "language_info": {
      "codemirror_mode": {
        "name": "python",
        "version": 3
      },
      "file_extension": ".py",
      "mimetype": "text/x-python",
      "name": "python",
      "nbconvert_exporter": "python",
      "pygments_lexer": "ipython3",
      "version": "3.8"
    }
  },
  "nbformat_minor": 5,
  "nbformat": 4,
  "cells": [
    {
      "id": "a36c5360-7416-4187-ba97-3a64ce59444a",
      "cell_type": "code",
      "source": "import pandas as pd\nimport pickle\nimport numpy as np",
      "metadata": {
        "trusted": true
      },
      "outputs": [],
      "execution_count": 1
    },
    {
      "id": "f35f230a-bf0b-4a0a-ab97-5d3119fc39f7",
      "cell_type": "code",
      "source": "df=pickle.load(open('dataset_l2.pkl','rb'))",
      "metadata": {
        "trusted": true
      },
      "outputs": [],
      "execution_count": 3
    },
    {
      "id": "8dd7166c-8b61-41cd-a140-5499e541f6d1",
      "cell_type": "code",
      "source": "df",
      "metadata": {
        "trusted": true
      },
      "outputs": [
        {
          "execution_count": 4,
          "output_type": "execute_result",
          "data": {
            "text/plain": "        match_id batting_team bowling_team  ball  runs player_dismissed  \\\n2763          24   Bangladesh        India   0.1     0                0   \n2764          24   Bangladesh        India   0.2     0                0   \n2765          24   Bangladesh        India   0.3     1                0   \n2766          24   Bangladesh        India   0.4     4                0   \n2767          24   Bangladesh        India   0.5     0        Liton Das   \n...          ...          ...          ...   ...   ...              ...   \n101914       854    Sri Lanka    Australia  19.3     1                0   \n101915       854    Sri Lanka    Australia  19.4     0                0   \n101916       854    Sri Lanka    Australia  19.5     0      DM de Silva   \n101917       854    Sri Lanka    Australia  19.6     2                0   \n101918       854    Sri Lanka    Australia  19.7     1                0   \n\n           city                                              venue  \n2763    Gwalior  Shrimant Madhavrao Scindia Cricket Stadium, Gw...  \n2764    Gwalior  Shrimant Madhavrao Scindia Cricket Stadium, Gw...  \n2765    Gwalior  Shrimant Madhavrao Scindia Cricket Stadium, Gw...  \n2766    Gwalior  Shrimant Madhavrao Scindia Cricket Stadium, Gw...  \n2767    Gwalior  Shrimant Madhavrao Scindia Cricket Stadium, Gw...  \n...         ...                                                ...  \n101914  Colombo                                R Premadasa Stadium  \n101915  Colombo                                R Premadasa Stadium  \n101916  Colombo                                R Premadasa Stadium  \n101917  Colombo                                R Premadasa Stadium  \n101918  Colombo                                R Premadasa Stadium  \n\n[44294 rows x 8 columns]",
            "text/html": "<div>\n<style scoped>\n    .dataframe tbody tr th:only-of-type {\n        vertical-align: middle;\n    }\n\n    .dataframe tbody tr th {\n        vertical-align: top;\n    }\n\n    .dataframe thead th {\n        text-align: right;\n    }\n</style>\n<table border=\"1\" class=\"dataframe\">\n  <thead>\n    <tr style=\"text-align: right;\">\n      <th></th>\n      <th>match_id</th>\n      <th>batting_team</th>\n      <th>bowling_team</th>\n      <th>ball</th>\n      <th>runs</th>\n      <th>player_dismissed</th>\n      <th>city</th>\n      <th>venue</th>\n    </tr>\n  </thead>\n  <tbody>\n    <tr>\n      <th>2763</th>\n      <td>24</td>\n      <td>Bangladesh</td>\n      <td>India</td>\n      <td>0.1</td>\n      <td>0</td>\n      <td>0</td>\n      <td>Gwalior</td>\n      <td>Shrimant Madhavrao Scindia Cricket Stadium, Gw...</td>\n    </tr>\n    <tr>\n      <th>2764</th>\n      <td>24</td>\n      <td>Bangladesh</td>\n      <td>India</td>\n      <td>0.2</td>\n      <td>0</td>\n      <td>0</td>\n      <td>Gwalior</td>\n      <td>Shrimant Madhavrao Scindia Cricket Stadium, Gw...</td>\n    </tr>\n    <tr>\n      <th>2765</th>\n      <td>24</td>\n      <td>Bangladesh</td>\n      <td>India</td>\n      <td>0.3</td>\n      <td>1</td>\n      <td>0</td>\n      <td>Gwalior</td>\n      <td>Shrimant Madhavrao Scindia Cricket Stadium, Gw...</td>\n    </tr>\n    <tr>\n      <th>2766</th>\n      <td>24</td>\n      <td>Bangladesh</td>\n      <td>India</td>\n      <td>0.4</td>\n      <td>4</td>\n      <td>0</td>\n      <td>Gwalior</td>\n      <td>Shrimant Madhavrao Scindia Cricket Stadium, Gw...</td>\n    </tr>\n    <tr>\n      <th>2767</th>\n      <td>24</td>\n      <td>Bangladesh</td>\n      <td>India</td>\n      <td>0.5</td>\n      <td>0</td>\n      <td>Liton Das</td>\n      <td>Gwalior</td>\n      <td>Shrimant Madhavrao Scindia Cricket Stadium, Gw...</td>\n    </tr>\n    <tr>\n      <th>...</th>\n      <td>...</td>\n      <td>...</td>\n      <td>...</td>\n      <td>...</td>\n      <td>...</td>\n      <td>...</td>\n      <td>...</td>\n      <td>...</td>\n    </tr>\n    <tr>\n      <th>101914</th>\n      <td>854</td>\n      <td>Sri Lanka</td>\n      <td>Australia</td>\n      <td>19.3</td>\n      <td>1</td>\n      <td>0</td>\n      <td>Colombo</td>\n      <td>R Premadasa Stadium</td>\n    </tr>\n    <tr>\n      <th>101915</th>\n      <td>854</td>\n      <td>Sri Lanka</td>\n      <td>Australia</td>\n      <td>19.4</td>\n      <td>0</td>\n      <td>0</td>\n      <td>Colombo</td>\n      <td>R Premadasa Stadium</td>\n    </tr>\n    <tr>\n      <th>101916</th>\n      <td>854</td>\n      <td>Sri Lanka</td>\n      <td>Australia</td>\n      <td>19.5</td>\n      <td>0</td>\n      <td>DM de Silva</td>\n      <td>Colombo</td>\n      <td>R Premadasa Stadium</td>\n    </tr>\n    <tr>\n      <th>101917</th>\n      <td>854</td>\n      <td>Sri Lanka</td>\n      <td>Australia</td>\n      <td>19.6</td>\n      <td>2</td>\n      <td>0</td>\n      <td>Colombo</td>\n      <td>R Premadasa Stadium</td>\n    </tr>\n    <tr>\n      <th>101918</th>\n      <td>854</td>\n      <td>Sri Lanka</td>\n      <td>Australia</td>\n      <td>19.7</td>\n      <td>1</td>\n      <td>0</td>\n      <td>Colombo</td>\n      <td>R Premadasa Stadium</td>\n    </tr>\n  </tbody>\n</table>\n<p>44294 rows × 8 columns</p>\n</div>"
          },
          "metadata": {}
        }
      ],
      "execution_count": 4
    },
    {
      "id": "e7fa8959-c52b-4651-ba7c-42efa865911b",
      "cell_type": "code",
      "source": "df[df['city'].isnull()]['venue'].value_counts()",
      "metadata": {
        "trusted": true
      },
      "outputs": [
        {
          "execution_count": 5,
          "output_type": "execute_result",
          "data": {
            "text/plain": "venue\nDubai International Cricket Stadium        2349\nPallekele International Cricket Stadium    1945\nMelbourne Cricket Ground                   1079\nSydney Cricket Ground                       495\nAdelaide Oval                               373\nSharjah Cricket Stadium                     127\nName: count, dtype: int64"
          },
          "metadata": {}
        }
      ],
      "execution_count": 5
    },
    {
      "id": "c349a51c-fc37-417f-a8d0-fd3dd4363856",
      "cell_type": "code",
      "source": "cities=np.where(df['city'].isnull(),df['venue'].str.split().apply(lambda x:x[0]),df['city'])",
      "metadata": {
        "trusted": true
      },
      "outputs": [],
      "execution_count": 8
    },
    {
      "id": "f9996ed8-bcde-4d40-9136-f9f2a04e8c35",
      "cell_type": "code",
      "source": "df['city']=cities",
      "metadata": {
        "trusted": true
      },
      "outputs": [],
      "execution_count": 9
    },
    {
      "id": "0f5d79d0-88e4-49a5-8dd7-94ee98215190",
      "cell_type": "code",
      "source": "df.isnull().sum()",
      "metadata": {
        "trusted": true
      },
      "outputs": [
        {
          "execution_count": 10,
          "output_type": "execute_result",
          "data": {
            "text/plain": "match_id            0\nbatting_team        0\nbowling_team        0\nball                0\nruns                0\nplayer_dismissed    0\ncity                0\nvenue               0\ndtype: int64"
          },
          "metadata": {}
        }
      ],
      "execution_count": 10
    },
    {
      "id": "41f0fd30-281d-48a2-a9e7-953bb329d752",
      "cell_type": "code",
      "source": "df.drop(columns=['venue'],inplace=True)",
      "metadata": {
        "trusted": true
      },
      "outputs": [],
      "execution_count": 11
    },
    {
      "id": "5debf3d9-7aab-4d19-90dc-2e81e41e129e",
      "cell_type": "code",
      "source": "eligible_cities=df['city'].value_counts()[df['city'].value_counts()>600].index.tolist()",
      "metadata": {
        "trusted": true
      },
      "outputs": [],
      "execution_count": 16
    },
    {
      "id": "25deb63a-cf7f-4148-b30d-c1ff6cde0856",
      "cell_type": "code",
      "source": "eligible_cities",
      "metadata": {
        "trusted": true
      },
      "outputs": [
        {
          "execution_count": 66,
          "output_type": "execute_result",
          "data": {
            "text/plain": "['Mirpur',\n 'Johannesburg',\n 'Colombo',\n 'Dubai',\n 'London',\n 'Pallekele',\n 'Barbados',\n 'Cape Town',\n 'Durban',\n 'Auckland',\n 'St Lucia',\n 'Melbourne',\n 'Sydney',\n 'Wellington',\n 'Chittagong',\n 'Nottingham',\n 'Centurion',\n 'Mumbai',\n 'Hamilton',\n 'Kolkata',\n 'Manchester',\n 'Christchurch']"
          },
          "metadata": {}
        }
      ],
      "execution_count": 66
    },
    {
      "id": "951b74ce-40d9-4967-b322-e4586c3af266",
      "cell_type": "code",
      "source": "df",
      "metadata": {
        "trusted": true
      },
      "outputs": [
        {
          "execution_count": 17,
          "output_type": "execute_result",
          "data": {
            "text/plain": "        match_id batting_team bowling_team  ball  runs player_dismissed  \\\n2763          24   Bangladesh        India   0.1     0                0   \n2764          24   Bangladesh        India   0.2     0                0   \n2765          24   Bangladesh        India   0.3     1                0   \n2766          24   Bangladesh        India   0.4     4                0   \n2767          24   Bangladesh        India   0.5     0        Liton Das   \n...          ...          ...          ...   ...   ...              ...   \n101914       854    Sri Lanka    Australia  19.3     1                0   \n101915       854    Sri Lanka    Australia  19.4     0                0   \n101916       854    Sri Lanka    Australia  19.5     0      DM de Silva   \n101917       854    Sri Lanka    Australia  19.6     2                0   \n101918       854    Sri Lanka    Australia  19.7     1                0   \n\n           city  \n2763    Gwalior  \n2764    Gwalior  \n2765    Gwalior  \n2766    Gwalior  \n2767    Gwalior  \n...         ...  \n101914  Colombo  \n101915  Colombo  \n101916  Colombo  \n101917  Colombo  \n101918  Colombo  \n\n[44294 rows x 7 columns]",
            "text/html": "<div>\n<style scoped>\n    .dataframe tbody tr th:only-of-type {\n        vertical-align: middle;\n    }\n\n    .dataframe tbody tr th {\n        vertical-align: top;\n    }\n\n    .dataframe thead th {\n        text-align: right;\n    }\n</style>\n<table border=\"1\" class=\"dataframe\">\n  <thead>\n    <tr style=\"text-align: right;\">\n      <th></th>\n      <th>match_id</th>\n      <th>batting_team</th>\n      <th>bowling_team</th>\n      <th>ball</th>\n      <th>runs</th>\n      <th>player_dismissed</th>\n      <th>city</th>\n    </tr>\n  </thead>\n  <tbody>\n    <tr>\n      <th>2763</th>\n      <td>24</td>\n      <td>Bangladesh</td>\n      <td>India</td>\n      <td>0.1</td>\n      <td>0</td>\n      <td>0</td>\n      <td>Gwalior</td>\n    </tr>\n    <tr>\n      <th>2764</th>\n      <td>24</td>\n      <td>Bangladesh</td>\n      <td>India</td>\n      <td>0.2</td>\n      <td>0</td>\n      <td>0</td>\n      <td>Gwalior</td>\n    </tr>\n    <tr>\n      <th>2765</th>\n      <td>24</td>\n      <td>Bangladesh</td>\n      <td>India</td>\n      <td>0.3</td>\n      <td>1</td>\n      <td>0</td>\n      <td>Gwalior</td>\n    </tr>\n    <tr>\n      <th>2766</th>\n      <td>24</td>\n      <td>Bangladesh</td>\n      <td>India</td>\n      <td>0.4</td>\n      <td>4</td>\n      <td>0</td>\n      <td>Gwalior</td>\n    </tr>\n    <tr>\n      <th>2767</th>\n      <td>24</td>\n      <td>Bangladesh</td>\n      <td>India</td>\n      <td>0.5</td>\n      <td>0</td>\n      <td>Liton Das</td>\n      <td>Gwalior</td>\n    </tr>\n    <tr>\n      <th>...</th>\n      <td>...</td>\n      <td>...</td>\n      <td>...</td>\n      <td>...</td>\n      <td>...</td>\n      <td>...</td>\n      <td>...</td>\n    </tr>\n    <tr>\n      <th>101914</th>\n      <td>854</td>\n      <td>Sri Lanka</td>\n      <td>Australia</td>\n      <td>19.3</td>\n      <td>1</td>\n      <td>0</td>\n      <td>Colombo</td>\n    </tr>\n    <tr>\n      <th>101915</th>\n      <td>854</td>\n      <td>Sri Lanka</td>\n      <td>Australia</td>\n      <td>19.4</td>\n      <td>0</td>\n      <td>0</td>\n      <td>Colombo</td>\n    </tr>\n    <tr>\n      <th>101916</th>\n      <td>854</td>\n      <td>Sri Lanka</td>\n      <td>Australia</td>\n      <td>19.5</td>\n      <td>0</td>\n      <td>DM de Silva</td>\n      <td>Colombo</td>\n    </tr>\n    <tr>\n      <th>101917</th>\n      <td>854</td>\n      <td>Sri Lanka</td>\n      <td>Australia</td>\n      <td>19.6</td>\n      <td>2</td>\n      <td>0</td>\n      <td>Colombo</td>\n    </tr>\n    <tr>\n      <th>101918</th>\n      <td>854</td>\n      <td>Sri Lanka</td>\n      <td>Australia</td>\n      <td>19.7</td>\n      <td>1</td>\n      <td>0</td>\n      <td>Colombo</td>\n    </tr>\n  </tbody>\n</table>\n<p>44294 rows × 7 columns</p>\n</div>"
          },
          "metadata": {}
        }
      ],
      "execution_count": 17
    },
    {
      "id": "69ada1ac-0259-4436-8e2f-a2414e0aedeb",
      "cell_type": "code",
      "source": "df['current_score'] = df.groupby('match_id')['runs'].cumsum()",
      "metadata": {
        "trusted": true
      },
      "outputs": [],
      "execution_count": 21
    },
    {
      "id": "31225784-c75c-4dbf-ad9f-687ac5ec7830",
      "cell_type": "code",
      "source": "df",
      "metadata": {
        "trusted": true
      },
      "outputs": [
        {
          "execution_count": 22,
          "output_type": "execute_result",
          "data": {
            "text/plain": "        match_id batting_team bowling_team  ball  runs player_dismissed  \\\n2763          24   Bangladesh        India   0.1     0                0   \n2764          24   Bangladesh        India   0.2     0                0   \n2765          24   Bangladesh        India   0.3     1                0   \n2766          24   Bangladesh        India   0.4     4                0   \n2767          24   Bangladesh        India   0.5     0        Liton Das   \n...          ...          ...          ...   ...   ...              ...   \n101914       854    Sri Lanka    Australia  19.3     1                0   \n101915       854    Sri Lanka    Australia  19.4     0                0   \n101916       854    Sri Lanka    Australia  19.5     0      DM de Silva   \n101917       854    Sri Lanka    Australia  19.6     2                0   \n101918       854    Sri Lanka    Australia  19.7     1                0   \n\n           city  current_score  \n2763    Gwalior              0  \n2764    Gwalior              0  \n2765    Gwalior              1  \n2766    Gwalior              5  \n2767    Gwalior              5  \n...         ...            ...  \n101914  Colombo            125  \n101915  Colombo            125  \n101916  Colombo            125  \n101917  Colombo            127  \n101918  Colombo            128  \n\n[44294 rows x 8 columns]",
            "text/html": "<div>\n<style scoped>\n    .dataframe tbody tr th:only-of-type {\n        vertical-align: middle;\n    }\n\n    .dataframe tbody tr th {\n        vertical-align: top;\n    }\n\n    .dataframe thead th {\n        text-align: right;\n    }\n</style>\n<table border=\"1\" class=\"dataframe\">\n  <thead>\n    <tr style=\"text-align: right;\">\n      <th></th>\n      <th>match_id</th>\n      <th>batting_team</th>\n      <th>bowling_team</th>\n      <th>ball</th>\n      <th>runs</th>\n      <th>player_dismissed</th>\n      <th>city</th>\n      <th>current_score</th>\n    </tr>\n  </thead>\n  <tbody>\n    <tr>\n      <th>2763</th>\n      <td>24</td>\n      <td>Bangladesh</td>\n      <td>India</td>\n      <td>0.1</td>\n      <td>0</td>\n      <td>0</td>\n      <td>Gwalior</td>\n      <td>0</td>\n    </tr>\n    <tr>\n      <th>2764</th>\n      <td>24</td>\n      <td>Bangladesh</td>\n      <td>India</td>\n      <td>0.2</td>\n      <td>0</td>\n      <td>0</td>\n      <td>Gwalior</td>\n      <td>0</td>\n    </tr>\n    <tr>\n      <th>2765</th>\n      <td>24</td>\n      <td>Bangladesh</td>\n      <td>India</td>\n      <td>0.3</td>\n      <td>1</td>\n      <td>0</td>\n      <td>Gwalior</td>\n      <td>1</td>\n    </tr>\n    <tr>\n      <th>2766</th>\n      <td>24</td>\n      <td>Bangladesh</td>\n      <td>India</td>\n      <td>0.4</td>\n      <td>4</td>\n      <td>0</td>\n      <td>Gwalior</td>\n      <td>5</td>\n    </tr>\n    <tr>\n      <th>2767</th>\n      <td>24</td>\n      <td>Bangladesh</td>\n      <td>India</td>\n      <td>0.5</td>\n      <td>0</td>\n      <td>Liton Das</td>\n      <td>Gwalior</td>\n      <td>5</td>\n    </tr>\n    <tr>\n      <th>...</th>\n      <td>...</td>\n      <td>...</td>\n      <td>...</td>\n      <td>...</td>\n      <td>...</td>\n      <td>...</td>\n      <td>...</td>\n      <td>...</td>\n    </tr>\n    <tr>\n      <th>101914</th>\n      <td>854</td>\n      <td>Sri Lanka</td>\n      <td>Australia</td>\n      <td>19.3</td>\n      <td>1</td>\n      <td>0</td>\n      <td>Colombo</td>\n      <td>125</td>\n    </tr>\n    <tr>\n      <th>101915</th>\n      <td>854</td>\n      <td>Sri Lanka</td>\n      <td>Australia</td>\n      <td>19.4</td>\n      <td>0</td>\n      <td>0</td>\n      <td>Colombo</td>\n      <td>125</td>\n    </tr>\n    <tr>\n      <th>101916</th>\n      <td>854</td>\n      <td>Sri Lanka</td>\n      <td>Australia</td>\n      <td>19.5</td>\n      <td>0</td>\n      <td>DM de Silva</td>\n      <td>Colombo</td>\n      <td>125</td>\n    </tr>\n    <tr>\n      <th>101917</th>\n      <td>854</td>\n      <td>Sri Lanka</td>\n      <td>Australia</td>\n      <td>19.6</td>\n      <td>2</td>\n      <td>0</td>\n      <td>Colombo</td>\n      <td>127</td>\n    </tr>\n    <tr>\n      <th>101918</th>\n      <td>854</td>\n      <td>Sri Lanka</td>\n      <td>Australia</td>\n      <td>19.7</td>\n      <td>1</td>\n      <td>0</td>\n      <td>Colombo</td>\n      <td>128</td>\n    </tr>\n  </tbody>\n</table>\n<p>44294 rows × 8 columns</p>\n</div>"
          },
          "metadata": {}
        }
      ],
      "execution_count": 22
    },
    {
      "id": "cf8f15eb-a423-47bf-b16d-4822e189fc94",
      "cell_type": "code",
      "source": "df['over']=df['ball'].apply(lambda x:str(x).split(\".\")[0])\ndf['ball_no']=df['ball'].apply(lambda x:str(x).split(\".\")[1])",
      "metadata": {
        "trusted": true
      },
      "outputs": [],
      "execution_count": 23
    },
    {
      "id": "fa949bc9-002b-4428-8d79-6308c91b909a",
      "cell_type": "code",
      "source": "df['balls_bowled']=(df['over'].astype('int')*6)+df['ball_no'].astype('int')",
      "metadata": {
        "trusted": true
      },
      "outputs": [],
      "execution_count": 24
    },
    {
      "id": "8bdc915f-7794-4e34-83d9-d6c579c3aa0f",
      "cell_type": "code",
      "source": "df['balls_left']=120-df['balls_bowled']\ndf['balls_left']=df['balls_left'].apply(lambda x:0 if x<0 else x)",
      "metadata": {
        "trusted": true
      },
      "outputs": [],
      "execution_count": 25
    },
    {
      "id": "d3b0cb0e-00fd-4552-9604-42e2b59d4b9f",
      "cell_type": "code",
      "source": "df['player_dismissed']=df['player_dismissed'].apply(lambda x:0 if x=='0' else 1)\ndf['player_dismissed']=df['player_dismissed'].astype('int')\ndf['player_dismissed']=df.groupby('match_id')['player_dismissed'].cumsum()\ndf['wickets_left']=10-df['player_dismissed']",
      "metadata": {
        "trusted": true
      },
      "outputs": [],
      "execution_count": 26
    },
    {
      "id": "cf601208-3298-4698-b9ce-0e0a9845640e",
      "cell_type": "code",
      "source": "df",
      "metadata": {
        "trusted": true
      },
      "outputs": [
        {
          "execution_count": 27,
          "output_type": "execute_result",
          "data": {
            "text/plain": "        match_id batting_team bowling_team  ball  runs  player_dismissed  \\\n2763          24   Bangladesh        India   0.1     0                 0   \n2764          24   Bangladesh        India   0.2     0                 0   \n2765          24   Bangladesh        India   0.3     1                 0   \n2766          24   Bangladesh        India   0.4     4                 0   \n2767          24   Bangladesh        India   0.5     0                 1   \n...          ...          ...          ...   ...   ...               ...   \n101914       854    Sri Lanka    Australia  19.3     1                 8   \n101915       854    Sri Lanka    Australia  19.4     0                 8   \n101916       854    Sri Lanka    Australia  19.5     0                 9   \n101917       854    Sri Lanka    Australia  19.6     2                 9   \n101918       854    Sri Lanka    Australia  19.7     1                 9   \n\n           city  current_score over ball_no  balls_bowled  balls_left  \\\n2763    Gwalior              0    0       1             1         119   \n2764    Gwalior              0    0       2             2         118   \n2765    Gwalior              1    0       3             3         117   \n2766    Gwalior              5    0       4             4         116   \n2767    Gwalior              5    0       5             5         115   \n...         ...            ...  ...     ...           ...         ...   \n101914  Colombo            125   19       3           117           3   \n101915  Colombo            125   19       4           118           2   \n101916  Colombo            125   19       5           119           1   \n101917  Colombo            127   19       6           120           0   \n101918  Colombo            128   19       7           121           0   \n\n        wickets_left  \n2763              10  \n2764              10  \n2765              10  \n2766              10  \n2767               9  \n...              ...  \n101914             2  \n101915             2  \n101916             1  \n101917             1  \n101918             1  \n\n[44294 rows x 13 columns]",
            "text/html": "<div>\n<style scoped>\n    .dataframe tbody tr th:only-of-type {\n        vertical-align: middle;\n    }\n\n    .dataframe tbody tr th {\n        vertical-align: top;\n    }\n\n    .dataframe thead th {\n        text-align: right;\n    }\n</style>\n<table border=\"1\" class=\"dataframe\">\n  <thead>\n    <tr style=\"text-align: right;\">\n      <th></th>\n      <th>match_id</th>\n      <th>batting_team</th>\n      <th>bowling_team</th>\n      <th>ball</th>\n      <th>runs</th>\n      <th>player_dismissed</th>\n      <th>city</th>\n      <th>current_score</th>\n      <th>over</th>\n      <th>ball_no</th>\n      <th>balls_bowled</th>\n      <th>balls_left</th>\n      <th>wickets_left</th>\n    </tr>\n  </thead>\n  <tbody>\n    <tr>\n      <th>2763</th>\n      <td>24</td>\n      <td>Bangladesh</td>\n      <td>India</td>\n      <td>0.1</td>\n      <td>0</td>\n      <td>0</td>\n      <td>Gwalior</td>\n      <td>0</td>\n      <td>0</td>\n      <td>1</td>\n      <td>1</td>\n      <td>119</td>\n      <td>10</td>\n    </tr>\n    <tr>\n      <th>2764</th>\n      <td>24</td>\n      <td>Bangladesh</td>\n      <td>India</td>\n      <td>0.2</td>\n      <td>0</td>\n      <td>0</td>\n      <td>Gwalior</td>\n      <td>0</td>\n      <td>0</td>\n      <td>2</td>\n      <td>2</td>\n      <td>118</td>\n      <td>10</td>\n    </tr>\n    <tr>\n      <th>2765</th>\n      <td>24</td>\n      <td>Bangladesh</td>\n      <td>India</td>\n      <td>0.3</td>\n      <td>1</td>\n      <td>0</td>\n      <td>Gwalior</td>\n      <td>1</td>\n      <td>0</td>\n      <td>3</td>\n      <td>3</td>\n      <td>117</td>\n      <td>10</td>\n    </tr>\n    <tr>\n      <th>2766</th>\n      <td>24</td>\n      <td>Bangladesh</td>\n      <td>India</td>\n      <td>0.4</td>\n      <td>4</td>\n      <td>0</td>\n      <td>Gwalior</td>\n      <td>5</td>\n      <td>0</td>\n      <td>4</td>\n      <td>4</td>\n      <td>116</td>\n      <td>10</td>\n    </tr>\n    <tr>\n      <th>2767</th>\n      <td>24</td>\n      <td>Bangladesh</td>\n      <td>India</td>\n      <td>0.5</td>\n      <td>0</td>\n      <td>1</td>\n      <td>Gwalior</td>\n      <td>5</td>\n      <td>0</td>\n      <td>5</td>\n      <td>5</td>\n      <td>115</td>\n      <td>9</td>\n    </tr>\n    <tr>\n      <th>...</th>\n      <td>...</td>\n      <td>...</td>\n      <td>...</td>\n      <td>...</td>\n      <td>...</td>\n      <td>...</td>\n      <td>...</td>\n      <td>...</td>\n      <td>...</td>\n      <td>...</td>\n      <td>...</td>\n      <td>...</td>\n      <td>...</td>\n    </tr>\n    <tr>\n      <th>101914</th>\n      <td>854</td>\n      <td>Sri Lanka</td>\n      <td>Australia</td>\n      <td>19.3</td>\n      <td>1</td>\n      <td>8</td>\n      <td>Colombo</td>\n      <td>125</td>\n      <td>19</td>\n      <td>3</td>\n      <td>117</td>\n      <td>3</td>\n      <td>2</td>\n    </tr>\n    <tr>\n      <th>101915</th>\n      <td>854</td>\n      <td>Sri Lanka</td>\n      <td>Australia</td>\n      <td>19.4</td>\n      <td>0</td>\n      <td>8</td>\n      <td>Colombo</td>\n      <td>125</td>\n      <td>19</td>\n      <td>4</td>\n      <td>118</td>\n      <td>2</td>\n      <td>2</td>\n    </tr>\n    <tr>\n      <th>101916</th>\n      <td>854</td>\n      <td>Sri Lanka</td>\n      <td>Australia</td>\n      <td>19.5</td>\n      <td>0</td>\n      <td>9</td>\n      <td>Colombo</td>\n      <td>125</td>\n      <td>19</td>\n      <td>5</td>\n      <td>119</td>\n      <td>1</td>\n      <td>1</td>\n    </tr>\n    <tr>\n      <th>101917</th>\n      <td>854</td>\n      <td>Sri Lanka</td>\n      <td>Australia</td>\n      <td>19.6</td>\n      <td>2</td>\n      <td>9</td>\n      <td>Colombo</td>\n      <td>127</td>\n      <td>19</td>\n      <td>6</td>\n      <td>120</td>\n      <td>0</td>\n      <td>1</td>\n    </tr>\n    <tr>\n      <th>101918</th>\n      <td>854</td>\n      <td>Sri Lanka</td>\n      <td>Australia</td>\n      <td>19.7</td>\n      <td>1</td>\n      <td>9</td>\n      <td>Colombo</td>\n      <td>128</td>\n      <td>19</td>\n      <td>7</td>\n      <td>121</td>\n      <td>0</td>\n      <td>1</td>\n    </tr>\n  </tbody>\n</table>\n<p>44294 rows × 13 columns</p>\n</div>"
          },
          "metadata": {}
        }
      ],
      "execution_count": 27
    },
    {
      "id": "95e513d9-667f-438e-a397-4d268fc3e2fb",
      "cell_type": "code",
      "source": "df['crr']=(df['current_score']*6)/df['balls_bowled']",
      "metadata": {
        "trusted": true
      },
      "outputs": [],
      "execution_count": 28
    },
    {
      "id": "0789b979-3fb2-454b-a05f-818b204cbded",
      "cell_type": "code",
      "source": "df",
      "metadata": {
        "trusted": true
      },
      "outputs": [
        {
          "execution_count": 29,
          "output_type": "execute_result",
          "data": {
            "text/plain": "        match_id batting_team bowling_team  ball  runs  player_dismissed  \\\n2763          24   Bangladesh        India   0.1     0                 0   \n2764          24   Bangladesh        India   0.2     0                 0   \n2765          24   Bangladesh        India   0.3     1                 0   \n2766          24   Bangladesh        India   0.4     4                 0   \n2767          24   Bangladesh        India   0.5     0                 1   \n...          ...          ...          ...   ...   ...               ...   \n101914       854    Sri Lanka    Australia  19.3     1                 8   \n101915       854    Sri Lanka    Australia  19.4     0                 8   \n101916       854    Sri Lanka    Australia  19.5     0                 9   \n101917       854    Sri Lanka    Australia  19.6     2                 9   \n101918       854    Sri Lanka    Australia  19.7     1                 9   \n\n           city  current_score over ball_no  balls_bowled  balls_left  \\\n2763    Gwalior              0    0       1             1         119   \n2764    Gwalior              0    0       2             2         118   \n2765    Gwalior              1    0       3             3         117   \n2766    Gwalior              5    0       4             4         116   \n2767    Gwalior              5    0       5             5         115   \n...         ...            ...  ...     ...           ...         ...   \n101914  Colombo            125   19       3           117           3   \n101915  Colombo            125   19       4           118           2   \n101916  Colombo            125   19       5           119           1   \n101917  Colombo            127   19       6           120           0   \n101918  Colombo            128   19       7           121           0   \n\n        wickets_left       crr  \n2763              10  0.000000  \n2764              10  0.000000  \n2765              10  2.000000  \n2766              10  7.500000  \n2767               9  6.000000  \n...              ...       ...  \n101914             2  6.410256  \n101915             2  6.355932  \n101916             1  6.302521  \n101917             1  6.350000  \n101918             1  6.347107  \n\n[44294 rows x 14 columns]",
            "text/html": "<div>\n<style scoped>\n    .dataframe tbody tr th:only-of-type {\n        vertical-align: middle;\n    }\n\n    .dataframe tbody tr th {\n        vertical-align: top;\n    }\n\n    .dataframe thead th {\n        text-align: right;\n    }\n</style>\n<table border=\"1\" class=\"dataframe\">\n  <thead>\n    <tr style=\"text-align: right;\">\n      <th></th>\n      <th>match_id</th>\n      <th>batting_team</th>\n      <th>bowling_team</th>\n      <th>ball</th>\n      <th>runs</th>\n      <th>player_dismissed</th>\n      <th>city</th>\n      <th>current_score</th>\n      <th>over</th>\n      <th>ball_no</th>\n      <th>balls_bowled</th>\n      <th>balls_left</th>\n      <th>wickets_left</th>\n      <th>crr</th>\n    </tr>\n  </thead>\n  <tbody>\n    <tr>\n      <th>2763</th>\n      <td>24</td>\n      <td>Bangladesh</td>\n      <td>India</td>\n      <td>0.1</td>\n      <td>0</td>\n      <td>0</td>\n      <td>Gwalior</td>\n      <td>0</td>\n      <td>0</td>\n      <td>1</td>\n      <td>1</td>\n      <td>119</td>\n      <td>10</td>\n      <td>0.000000</td>\n    </tr>\n    <tr>\n      <th>2764</th>\n      <td>24</td>\n      <td>Bangladesh</td>\n      <td>India</td>\n      <td>0.2</td>\n      <td>0</td>\n      <td>0</td>\n      <td>Gwalior</td>\n      <td>0</td>\n      <td>0</td>\n      <td>2</td>\n      <td>2</td>\n      <td>118</td>\n      <td>10</td>\n      <td>0.000000</td>\n    </tr>\n    <tr>\n      <th>2765</th>\n      <td>24</td>\n      <td>Bangladesh</td>\n      <td>India</td>\n      <td>0.3</td>\n      <td>1</td>\n      <td>0</td>\n      <td>Gwalior</td>\n      <td>1</td>\n      <td>0</td>\n      <td>3</td>\n      <td>3</td>\n      <td>117</td>\n      <td>10</td>\n      <td>2.000000</td>\n    </tr>\n    <tr>\n      <th>2766</th>\n      <td>24</td>\n      <td>Bangladesh</td>\n      <td>India</td>\n      <td>0.4</td>\n      <td>4</td>\n      <td>0</td>\n      <td>Gwalior</td>\n      <td>5</td>\n      <td>0</td>\n      <td>4</td>\n      <td>4</td>\n      <td>116</td>\n      <td>10</td>\n      <td>7.500000</td>\n    </tr>\n    <tr>\n      <th>2767</th>\n      <td>24</td>\n      <td>Bangladesh</td>\n      <td>India</td>\n      <td>0.5</td>\n      <td>0</td>\n      <td>1</td>\n      <td>Gwalior</td>\n      <td>5</td>\n      <td>0</td>\n      <td>5</td>\n      <td>5</td>\n      <td>115</td>\n      <td>9</td>\n      <td>6.000000</td>\n    </tr>\n    <tr>\n      <th>...</th>\n      <td>...</td>\n      <td>...</td>\n      <td>...</td>\n      <td>...</td>\n      <td>...</td>\n      <td>...</td>\n      <td>...</td>\n      <td>...</td>\n      <td>...</td>\n      <td>...</td>\n      <td>...</td>\n      <td>...</td>\n      <td>...</td>\n      <td>...</td>\n    </tr>\n    <tr>\n      <th>101914</th>\n      <td>854</td>\n      <td>Sri Lanka</td>\n      <td>Australia</td>\n      <td>19.3</td>\n      <td>1</td>\n      <td>8</td>\n      <td>Colombo</td>\n      <td>125</td>\n      <td>19</td>\n      <td>3</td>\n      <td>117</td>\n      <td>3</td>\n      <td>2</td>\n      <td>6.410256</td>\n    </tr>\n    <tr>\n      <th>101915</th>\n      <td>854</td>\n      <td>Sri Lanka</td>\n      <td>Australia</td>\n      <td>19.4</td>\n      <td>0</td>\n      <td>8</td>\n      <td>Colombo</td>\n      <td>125</td>\n      <td>19</td>\n      <td>4</td>\n      <td>118</td>\n      <td>2</td>\n      <td>2</td>\n      <td>6.355932</td>\n    </tr>\n    <tr>\n      <th>101916</th>\n      <td>854</td>\n      <td>Sri Lanka</td>\n      <td>Australia</td>\n      <td>19.5</td>\n      <td>0</td>\n      <td>9</td>\n      <td>Colombo</td>\n      <td>125</td>\n      <td>19</td>\n      <td>5</td>\n      <td>119</td>\n      <td>1</td>\n      <td>1</td>\n      <td>6.302521</td>\n    </tr>\n    <tr>\n      <th>101917</th>\n      <td>854</td>\n      <td>Sri Lanka</td>\n      <td>Australia</td>\n      <td>19.6</td>\n      <td>2</td>\n      <td>9</td>\n      <td>Colombo</td>\n      <td>127</td>\n      <td>19</td>\n      <td>6</td>\n      <td>120</td>\n      <td>0</td>\n      <td>1</td>\n      <td>6.350000</td>\n    </tr>\n    <tr>\n      <th>101918</th>\n      <td>854</td>\n      <td>Sri Lanka</td>\n      <td>Australia</td>\n      <td>19.7</td>\n      <td>1</td>\n      <td>9</td>\n      <td>Colombo</td>\n      <td>128</td>\n      <td>19</td>\n      <td>7</td>\n      <td>121</td>\n      <td>0</td>\n      <td>1</td>\n      <td>6.347107</td>\n    </tr>\n  </tbody>\n</table>\n<p>44294 rows × 14 columns</p>\n</div>"
          },
          "metadata": {}
        }
      ],
      "execution_count": 29
    },
    {
      "id": "8e029a8c-8a6f-4e42-8bc2-527f8d853573",
      "cell_type": "code",
      "source": "groups=df.groupby('match_id')\nmatch_ids=df['match_id'].unique()\nlast_five=[]\nfor id in match_ids:\n    last_five.extend(groups.get_group(id).rolling(window=30)['runs'].sum().values.tolist())",
      "metadata": {
        "trusted": true
      },
      "outputs": [],
      "execution_count": 30
    },
    {
      "id": "9d626e17-3ddf-42e4-ba2d-16e1e5ee36d3",
      "cell_type": "code",
      "source": "last_five",
      "metadata": {
        "trusted": true
      },
      "outputs": [
        {
          "execution_count": 31,
          "output_type": "execute_result",
          "data": {
            "text/plain": "[nan,\n nan,\n nan,\n nan,\n nan,\n nan,\n nan,\n nan,\n nan,\n nan,\n nan,\n nan,\n nan,\n nan,\n nan,\n nan,\n nan,\n nan,\n nan,\n nan,\n nan,\n nan,\n nan,\n nan,\n nan,\n nan,\n nan,\n nan,\n nan,\n 39.0,\n 39.0,\n 39.0,\n 38.0,\n 34.0,\n 34.0,\n 33.0,\n 32.0,\n 27.0,\n 27.0,\n 27.0,\n 28.0,\n 28.0,\n 29.0,\n 28.0,\n 29.0,\n 29.0,\n 29.0,\n 29.0,\n 25.0,\n 26.0,\n 26.0,\n 26.0,\n 27.0,\n 32.0,\n 33.0,\n 29.0,\n 29.0,\n 29.0,\n 30.0,\n 25.0,\n 26.0,\n 27.0,\n 28.0,\n 28.0,\n 29.0,\n 30.0,\n 31.0,\n 31.0,\n 32.0,\n 34.0,\n 34.0,\n 33.0,\n 32.0,\n 32.0,\n 35.0,\n 35.0,\n 41.0,\n 45.0,\n 45.0,\n 44.0,\n 44.0,\n 43.0,\n 43.0,\n 37.0,\n 38.0,\n 39.0,\n 36.0,\n 36.0,\n 35.0,\n 34.0,\n 37.0,\n 36.0,\n 39.0,\n 40.0,\n 40.0,\n 41.0,\n 40.0,\n 40.0,\n 40.0,\n 39.0,\n 38.0,\n 38.0,\n 39.0,\n 39.0,\n 36.0,\n 36.0,\n 31.0,\n 27.0,\n 27.0,\n 26.0,\n 25.0,\n 26.0,\n 26.0,\n 27.0,\n 25.0,\n 24.0,\n 23.0,\n 26.0,\n 28.0,\n 29.0,\n 25.0,\n nan,\n nan,\n nan,\n nan,\n nan,\n nan,\n nan,\n nan,\n nan,\n nan,\n nan,\n nan,\n nan,\n nan,\n nan,\n nan,\n nan,\n nan,\n nan,\n nan,\n nan,\n nan,\n nan,\n nan,\n nan,\n nan,\n nan,\n nan,\n nan,\n 36.0,\n 37.0,\n 37.0,\n 33.0,\n 32.0,\n 34.0,\n 30.0,\n 31.0,\n 31.0,\n 33.0,\n 34.0,\n 34.0,\n 34.0,\n 35.0,\n 36.0,\n 33.0,\n 30.0,\n 36.0,\n 37.0,\n 36.0,\n 37.0,\n 37.0,\n 37.0,\n 38.0,\n 44.0,\n 43.0,\n 47.0,\n 50.0,\n 47.0,\n 52.0,\n 58.0,\n 58.0,\n 60.0,\n 61.0,\n 62.0,\n 58.0,\n 64.0,\n 64.0,\n 67.0,\n 66.0,\n 66.0,\n 65.0,\n 69.0,\n 69.0,\n 69.0,\n 69.0,\n 74.0,\n 72.0,\n 73.0,\n 78.0,\n 78.0,\n 83.0,\n 83.0,\n 82.0,\n 76.0,\n 77.0,\n 74.0,\n 71.0,\n 70.0,\n 68.0,\n 68.0,\n 68.0,\n 63.0,\n 63.0,\n 63.0,\n 64.0,\n 59.0,\n 62.0,\n 62.0,\n 67.0,\n 66.0,\n 68.0,\n 65.0,\n 64.0,\n 63.0,\n 62.0,\n 62.0,\n 59.0,\n 58.0,\n 52.0,\n 52.0,\n 47.0,\n 47.0,\n 51.0,\n 52.0,\n 57.0,\n 62.0,\n 61.0,\n 62.0,\n 58.0,\n 52.0,\n 51.0,\n 56.0,\n 55.0,\n 55.0,\n nan,\n nan,\n nan,\n nan,\n nan,\n nan,\n nan,\n nan,\n nan,\n nan,\n nan,\n nan,\n nan,\n nan,\n nan,\n nan,\n nan,\n nan,\n nan,\n nan,\n nan,\n nan,\n nan,\n nan,\n nan,\n nan,\n nan,\n nan,\n nan,\n 63.0,\n 63.0,\n 62.0,\n 65.0,\n 69.0,\n 69.0,\n 75.0,\n 79.0,\n 83.0,\n 85.0,\n 82.0,\n 78.0,\n 75.0,\n 79.0,\n 79.0,\n 79.0,\n 74.0,\n 80.0,\n 77.0,\n 78.0,\n 79.0,\n 79.0,\n 74.0,\n 74.0,\n 74.0,\n 75.0,\n 71.0,\n 76.0,\n 78.0,\n 83.0,\n 83.0,\n 89.0,\n 89.0,\n 86.0,\n 84.0,\n 81.0,\n 81.0,\n 78.0,\n 76.0,\n 75.0,\n 80.0,\n 80.0,\n 80.0,\n 76.0,\n 76.0,\n 75.0,\n 78.0,\n 72.0,\n 75.0,\n 75.0,\n 75.0,\n 72.0,\n 75.0,\n 75.0,\n 75.0,\n 74.0,\n 75.0,\n 73.0,\n 68.0,\n 66.0,\n 60.0,\n 54.0,\n 54.0,\n 59.0,\n 61.0,\n 66.0,\n 66.0,\n 69.0,\n 68.0,\n 63.0,\n 58.0,\n 64.0,\n 67.0,\n 73.0,\n 73.0,\n 73.0,\n 70.0,\n 72.0,\n 69.0,\n 69.0,\n 72.0,\n 77.0,\n 79.0,\n 80.0,\n 79.0,\n 80.0,\n 79.0,\n 76.0,\n 76.0,\n 76.0,\n 77.0,\n 83.0,\n 82.0,\n 76.0,\n 73.0,\n 68.0,\n 68.0,\n nan,\n nan,\n nan,\n nan,\n nan,\n nan,\n nan,\n nan,\n nan,\n nan,\n nan,\n nan,\n nan,\n nan,\n nan,\n nan,\n nan,\n nan,\n nan,\n nan,\n nan,\n nan,\n nan,\n nan,\n nan,\n nan,\n nan,\n nan,\n nan,\n 38.0,\n 38.0,\n 38.0,\n 39.0,\n 37.0,\n 41.0,\n 41.0,\n 43.0,\n 39.0,\n 45.0,\n 45.0,\n 42.0,\n 47.0,\n 48.0,\n 48.0,\n 52.0,\n 48.0,\n 48.0,\n 48.0,\n 47.0,\n 44.0,\n 40.0,\n 41.0,\n 38.0,\n 35.0,\n 34.0,\n 33.0,\n 33.0,\n 35.0,\n 35.0,\n 35.0,\n 36.0,\n 37.0,\n 37.0,\n 38.0,\n 35.0,\n 34.0,\n 33.0,\n 33.0,\n 28.0,\n 29.0,\n 30.0,\n 24.0,\n 22.0,\n 22.0,\n 19.0,\n 20.0,\n 20.0,\n 24.0,\n 24.0,\n 27.0,\n 28.0,\n 28.0,\n 27.0,\n 26.0,\n 27.0,\n 28.0,\n 27.0,\n 26.0,\n 25.0,\n 25.0,\n 24.0,\n 23.0,\n 23.0,\n 22.0,\n 21.0,\n 21.0,\n 20.0,\n 24.0,\n 23.0,\n 28.0,\n 26.0,\n 26.0,\n 26.0,\n 27.0,\n 26.0,\n 25.0,\n 26.0,\n 23.0,\n 24.0,\n 21.0,\n 20.0,\n 20.0,\n 24.0,\n 24.0,\n 24.0,\n 23.0,\n 24.0,\n 25.0,\n 29.0,\n 30.0,\n 32.0,\n 32.0,\n 32.0,\n 33.0,\n 33.0,\n nan,\n nan,\n nan,\n nan,\n nan,\n nan,\n nan,\n nan,\n nan,\n nan,\n nan,\n nan,\n nan,\n nan,\n nan,\n nan,\n nan,\n nan,\n nan,\n nan,\n nan,\n nan,\n nan,\n nan,\n nan,\n nan,\n nan,\n nan,\n nan,\n 47.0,\n 49.0,\n 50.0,\n 50.0,\n 51.0,\n 51.0,\n 50.0,\n 50.0,\n 51.0,\n 50.0,\n 51.0,\n 52.0,\n 51.0,\n 52.0,\n 48.0,\n 46.0,\n 47.0,\n 43.0,\n 40.0,\n 41.0,\n 44.0,\n 43.0,\n 38.0,\n 39.0,\n 39.0,\n 40.0,\n 41.0,\n 40.0,\n 34.0,\n 31.0,\n 31.0,\n 27.0,\n 31.0,\n 31.0,\n 31.0,\n 31.0,\n 32.0,\n 32.0,\n 32.0,\n 32.0,\n 31.0,\n 31.0,\n 33.0,\n 38.0,\n 42.0,\n 42.0,\n 43.0,\n 41.0,\n 40.0,\n 40.0,\n 42.0,\n 41.0,\n 44.0,\n 43.0,\n 44.0,\n 42.0,\n 42.0,\n 43.0,\n 44.0,\n 43.0,\n 43.0,\n 47.0,\n 47.0,\n 46.0,\n 47.0,\n 47.0,\n 46.0,\n 47.0,\n 47.0,\n 47.0,\n 51.0,\n 51.0,\n 50.0,\n 45.0,\n 42.0,\n 42.0,\n 42.0,\n 42.0,\n 43.0,\n 46.0,\n 41.0,\n 42.0,\n 39.0,\n 40.0,\n 39.0,\n 39.0,\n 38.0,\n 38.0,\n 41.0,\n 41.0,\n 42.0,\n 38.0,\n nan,\n nan,\n nan,\n nan,\n nan,\n nan,\n nan,\n nan,\n nan,\n nan,\n nan,\n nan,\n nan,\n nan,\n nan,\n nan,\n nan,\n nan,\n nan,\n nan,\n nan,\n nan,\n nan,\n nan,\n nan,\n nan,\n nan,\n nan,\n nan,\n 49.0,\n 50.0,\n 46.0,\n 47.0,\n 48.0,\n 47.0,\n 46.0,\n 46.0,\n 46.0,\n 47.0,\n 51.0,\n 56.0,\n 53.0,\n 54.0,\n 55.0,\n 54.0,\n 54.0,\n 58.0,\n 53.0,\n 54.0,\n 54.0,\n 58.0,\n 56.0,\n 53.0,\n 49.0,\n 48.0,\n 45.0,\n 41.0,\n 42.0,\n 37.0,\n 38.0,\n 37.0,\n 37.0,\n 37.0,\n 36.0,\n 37.0,\n 38.0,\n 38.0,\n 38.0,\n 43.0,\n 40.0,\n 36.0,\n 36.0,\n 35.0,\n 35.0,\n 38.0,\n 38.0,\n 35.0,\n 34.0,\n 33.0,\n 32.0,\n 29.0,\n 33.0,\n 32.0,\n 32.0,\n 33.0,\n 32.0,\n 33.0,\n 32.0,\n 31.0,\n 36.0,\n 36.0,\n 36.0,\n 36.0,\n 38.0,\n 38.0,\n 37.0,\n 36.0,\n 36.0,\n 36.0,\n 41.0,\n 39.0,\n 44.0,\n 45.0,\n 44.0,\n 41.0,\n 40.0,\n 40.0,\n 41.0,\n 42.0,\n 43.0,\n 42.0,\n 40.0,\n 41.0,\n 43.0,\n 42.0,\n 43.0,\n 44.0,\n 45.0,\n 46.0,\n 41.0,\n 42.0,\n 43.0,\n 43.0,\n 43.0,\n 44.0,\n nan,\n nan,\n nan,\n nan,\n nan,\n nan,\n nan,\n nan,\n nan,\n nan,\n nan,\n nan,\n nan,\n nan,\n nan,\n nan,\n nan,\n nan,\n nan,\n nan,\n nan,\n nan,\n nan,\n nan,\n nan,\n nan,\n nan,\n nan,\n nan,\n 37.0,\n 37.0,\n 36.0,\n 37.0,\n 38.0,\n 38.0,\n 38.0,\n 35.0,\n 35.0,\n 36.0,\n 36.0,\n 37.0,\n 37.0,\n 41.0,\n 44.0,\n 43.0,\n 42.0,\n 43.0,\n 40.0,\n 46.0,\n 47.0,\n 43.0,\n 44.0,\n 41.0,\n 40.0,\n 41.0,\n 40.0,\n 40.0,\n 37.0,\n 34.0,\n 34.0,\n 35.0,\n 35.0,\n 34.0,\n 37.0,\n 38.0,\n 33.0,\n 32.0,\n 32.0,\n 31.0,\n 32.0,\n 32.0,\n 33.0,\n 29.0,\n 26.0,\n 30.0,\n 30.0,\n 33.0,\n 36.0,\n 31.0,\n 31.0,\n 32.0,\n 32.0,\n 35.0,\n 41.0,\n 41.0,\n 41.0,\n 41.0,\n 41.0,\n 40.0,\n 40.0,\n 39.0,\n 40.0,\n 40.0,\n 36.0,\n 41.0,\n 41.0,\n 41.0,\n 42.0,\n 43.0,\n 48.0,\n 48.0,\n 53.0,\n 57.0,\n 57.0,\n 57.0,\n 58.0,\n 55.0,\n 52.0,\n 56.0,\n 61.0,\n 61.0,\n 64.0,\n 61.0,\n 57.0,\n 56.0,\n 56.0,\n 57.0,\n 58.0,\n 59.0,\n 63.0,\n 67.0,\n 68.0,\n 67.0,\n 67.0,\n 61.0,\n 60.0,\n 61.0,\n nan,\n nan,\n nan,\n nan,\n nan,\n nan,\n nan,\n nan,\n nan,\n nan,\n nan,\n nan,\n nan,\n nan,\n nan,\n nan,\n nan,\n nan,\n nan,\n nan,\n nan,\n nan,\n nan,\n nan,\n nan,\n nan,\n nan,\n nan,\n nan,\n 80.0,\n 78.0,\n 79.0,\n 79.0,\n 83.0,\n 81.0,\n 79.0,\n 80.0,\n 79.0,\n 83.0,\n 88.0,\n 89.0,\n 90.0,\n 91.0,\n 93.0,\n 94.0,\n 93.0,\n 93.0,\n 88.0,\n 88.0,\n 84.0,\n 81.0,\n 87.0,\n 82.0,\n 81.0,\n 75.0,\n 69.0,\n 71.0,\n 71.0,\n 67.0,\n 63.0,\n 60.0,\n 60.0,\n 60.0,\n 57.0,\n 53.0,\n 52.0,\n 52.0,\n 51.0,\n 49.0,\n 49.0,\n 49.0,\n 49.0,\n 49.0,\n 49.0,\n 52.0,\n 52.0,\n 47.0,\n 47.0,\n 50.0,\n 54.0,\n 53.0,\n 48.0,\n 48.0,\n 48.0,\n 49.0,\n 50.0,\n 47.0,\n 52.0,\n 50.0,\n 51.0,\n 50.0,\n 49.0,\n 53.0,\n 54.0,\n 56.0,\n 55.0,\n 54.0,\n 58.0,\n 55.0,\n 50.0,\n 55.0,\n 55.0,\n 58.0,\n 54.0,\n 56.0,\n 56.0,\n 56.0,\n 56.0,\n 53.0,\n 55.0,\n 55.0,\n 55.0,\n 54.0,\n 55.0,\n 55.0,\n 54.0,\n 53.0,\n 49.0,\n 49.0,\n 52.0,\n 52.0,\n 53.0,\n 49.0,\n nan,\n nan,\n nan,\n nan,\n nan,\n nan,\n nan,\n nan,\n ...]"
          },
          "metadata": {}
        }
      ],
      "execution_count": 31
    },
    {
      "id": "95056367-6e8a-4e04-a897-5050a0dce7b2",
      "cell_type": "code",
      "source": "df['last_five']=last_five",
      "metadata": {
        "trusted": true
      },
      "outputs": [],
      "execution_count": 32
    },
    {
      "id": "47d63dfd-1f0c-4bf6-a3e8-c36ddea01597",
      "cell_type": "code",
      "source": "final_df=df.groupby('match_id')['runs'].sum().reset_index().merge(df,on='match_id')",
      "metadata": {
        "trusted": true
      },
      "outputs": [],
      "execution_count": 34
    },
    {
      "id": "01da6e64-8c28-4d29-a797-c632e41ad16b",
      "cell_type": "code",
      "source": "final_df=final_df[['batting_team','bowling_team','city','current_score','balls_left','wickets_left','crr','last_five','runs_x']]",
      "metadata": {
        "trusted": true
      },
      "outputs": [],
      "execution_count": 37
    },
    {
      "id": "a706ff67-f491-4379-9af2-9c8f04791270",
      "cell_type": "code",
      "source": "final_df.dropna(inplace=True)",
      "metadata": {
        "trusted": true
      },
      "outputs": [],
      "execution_count": 38
    },
    {
      "id": "47bcac24-93e6-43c8-b7a9-8bcc0a8be9cb",
      "cell_type": "code",
      "source": "final_df",
      "metadata": {
        "trusted": true
      },
      "outputs": [
        {
          "execution_count": 39,
          "output_type": "execute_result",
          "data": {
            "text/plain": "      batting_team bowling_team     city  current_score  balls_left  \\\n29      Bangladesh        India  Gwalior             39          90   \n30      Bangladesh        India  Gwalior             39          89   \n31      Bangladesh        India  Gwalior             39          88   \n32      Bangladesh        India  Gwalior             39          87   \n33      Bangladesh        India  Gwalior             39          86   \n...            ...          ...      ...            ...         ...   \n44289    Sri Lanka    Australia  Colombo            125           3   \n44290    Sri Lanka    Australia  Colombo            125           2   \n44291    Sri Lanka    Australia  Colombo            125           1   \n44292    Sri Lanka    Australia  Colombo            127           0   \n44293    Sri Lanka    Australia  Colombo            128           0   \n\n       wickets_left       crr  last_five  runs_x  \n29                8  7.800000       39.0     127  \n30                8  7.548387       39.0     127  \n31                8  7.312500       39.0     127  \n32                8  7.090909       38.0     127  \n33                8  6.882353       34.0     127  \n...             ...       ...        ...     ...  \n44289             2  6.410256       32.0     128  \n44290             2  6.355932       32.0     128  \n44291             1  6.302521       32.0     128  \n44292             1  6.350000       33.0     128  \n44293             1  6.347107       32.0     128  \n\n[33736 rows x 9 columns]",
            "text/html": "<div>\n<style scoped>\n    .dataframe tbody tr th:only-of-type {\n        vertical-align: middle;\n    }\n\n    .dataframe tbody tr th {\n        vertical-align: top;\n    }\n\n    .dataframe thead th {\n        text-align: right;\n    }\n</style>\n<table border=\"1\" class=\"dataframe\">\n  <thead>\n    <tr style=\"text-align: right;\">\n      <th></th>\n      <th>batting_team</th>\n      <th>bowling_team</th>\n      <th>city</th>\n      <th>current_score</th>\n      <th>balls_left</th>\n      <th>wickets_left</th>\n      <th>crr</th>\n      <th>last_five</th>\n      <th>runs_x</th>\n    </tr>\n  </thead>\n  <tbody>\n    <tr>\n      <th>29</th>\n      <td>Bangladesh</td>\n      <td>India</td>\n      <td>Gwalior</td>\n      <td>39</td>\n      <td>90</td>\n      <td>8</td>\n      <td>7.800000</td>\n      <td>39.0</td>\n      <td>127</td>\n    </tr>\n    <tr>\n      <th>30</th>\n      <td>Bangladesh</td>\n      <td>India</td>\n      <td>Gwalior</td>\n      <td>39</td>\n      <td>89</td>\n      <td>8</td>\n      <td>7.548387</td>\n      <td>39.0</td>\n      <td>127</td>\n    </tr>\n    <tr>\n      <th>31</th>\n      <td>Bangladesh</td>\n      <td>India</td>\n      <td>Gwalior</td>\n      <td>39</td>\n      <td>88</td>\n      <td>8</td>\n      <td>7.312500</td>\n      <td>39.0</td>\n      <td>127</td>\n    </tr>\n    <tr>\n      <th>32</th>\n      <td>Bangladesh</td>\n      <td>India</td>\n      <td>Gwalior</td>\n      <td>39</td>\n      <td>87</td>\n      <td>8</td>\n      <td>7.090909</td>\n      <td>38.0</td>\n      <td>127</td>\n    </tr>\n    <tr>\n      <th>33</th>\n      <td>Bangladesh</td>\n      <td>India</td>\n      <td>Gwalior</td>\n      <td>39</td>\n      <td>86</td>\n      <td>8</td>\n      <td>6.882353</td>\n      <td>34.0</td>\n      <td>127</td>\n    </tr>\n    <tr>\n      <th>...</th>\n      <td>...</td>\n      <td>...</td>\n      <td>...</td>\n      <td>...</td>\n      <td>...</td>\n      <td>...</td>\n      <td>...</td>\n      <td>...</td>\n      <td>...</td>\n    </tr>\n    <tr>\n      <th>44289</th>\n      <td>Sri Lanka</td>\n      <td>Australia</td>\n      <td>Colombo</td>\n      <td>125</td>\n      <td>3</td>\n      <td>2</td>\n      <td>6.410256</td>\n      <td>32.0</td>\n      <td>128</td>\n    </tr>\n    <tr>\n      <th>44290</th>\n      <td>Sri Lanka</td>\n      <td>Australia</td>\n      <td>Colombo</td>\n      <td>125</td>\n      <td>2</td>\n      <td>2</td>\n      <td>6.355932</td>\n      <td>32.0</td>\n      <td>128</td>\n    </tr>\n    <tr>\n      <th>44291</th>\n      <td>Sri Lanka</td>\n      <td>Australia</td>\n      <td>Colombo</td>\n      <td>125</td>\n      <td>1</td>\n      <td>1</td>\n      <td>6.302521</td>\n      <td>32.0</td>\n      <td>128</td>\n    </tr>\n    <tr>\n      <th>44292</th>\n      <td>Sri Lanka</td>\n      <td>Australia</td>\n      <td>Colombo</td>\n      <td>127</td>\n      <td>0</td>\n      <td>1</td>\n      <td>6.350000</td>\n      <td>33.0</td>\n      <td>128</td>\n    </tr>\n    <tr>\n      <th>44293</th>\n      <td>Sri Lanka</td>\n      <td>Australia</td>\n      <td>Colombo</td>\n      <td>128</td>\n      <td>0</td>\n      <td>1</td>\n      <td>6.347107</td>\n      <td>32.0</td>\n      <td>128</td>\n    </tr>\n  </tbody>\n</table>\n<p>33736 rows × 9 columns</p>\n</div>"
          },
          "metadata": {}
        }
      ],
      "execution_count": 39
    },
    {
      "id": "8fcc03e3-fe3e-481e-b9a1-40c00a9ce9ec",
      "cell_type": "code",
      "source": "final_df=final_df.sample(final_df.shape[0])",
      "metadata": {
        "trusted": true
      },
      "outputs": [],
      "execution_count": 41
    },
    {
      "id": "4b64f8e4-8e6b-419d-a234-e63da7a208ea",
      "cell_type": "code",
      "source": "X=final_df.drop(columns=['runs_x'])\nY=final_df['runs_x']\nfrom sklearn.model_selection import train_test_split\nX_train,X_test,Y_train,Y_test=train_test_split(X,Y,test_size=0.2,random_state=1)",
      "metadata": {
        "trusted": true
      },
      "outputs": [],
      "execution_count": 44
    },
    {
      "id": "4c6fac55-0937-498f-89aa-3649fa3bb05e",
      "cell_type": "code",
      "source": "from sklearn.compose import ColumnTransformer\nfrom sklearn.preprocessing import OneHotEncoder\nfrom sklearn.pipeline import Pipeline\nfrom sklearn.preprocessing import StandardScaler\nfrom sklearn.ensemble import RandomForestRegressor\nfrom xgboost import XGBRegressor\nfrom sklearn.metrics import r2_score,mean_absolute_error",
      "metadata": {
        "trusted": true
      },
      "outputs": [],
      "execution_count": 51
    },
    {
      "id": "1ce720e0-a967-4e64-9d5c-d28ed0744415",
      "cell_type": "code",
      "source": "trf = ColumnTransformer(\n    transformers=[\n        ('encoder', OneHotEncoder(sparse_output=False, drop='first'), ['batting_team', 'bowling_team', 'city'])\n    ],\n    remainder='passthrough'\n)",
      "metadata": {
        "trusted": true
      },
      "outputs": [],
      "execution_count": 53
    },
    {
      "id": "06db63b6-32e1-4060-a0ce-e765d039160c",
      "cell_type": "code",
      "source": "pipe=Pipeline(steps=[\n    ('step1',trf),\n    ('step2',StandardScaler()),\n    ('step3',XGBRegressor(n_estimators=1000,learning_rate=0.2,max_depth=12,random_state=1))\n])",
      "metadata": {
        "trusted": true
      },
      "outputs": [],
      "execution_count": 54
    },
    {
      "id": "dc5aa457-a731-4ff1-ad24-e49e040ace14",
      "cell_type": "code",
      "source": "from sklearn.linear_model import LinearRegression\npipe.steps[-1] = ('model', LinearRegression())",
      "metadata": {
        "trusted": true
      },
      "outputs": [],
      "execution_count": 60
    },
    {
      "id": "5fc3e67d-0c63-44cf-8016-f8a5b6e42e0c",
      "cell_type": "code",
      "source": "pipe.fit(X_train, Y_train)\nY_pred = pipe.predict(X_test)\nprint(r2_score(Y_test, Y_pred))\nprint(mean_absolute_error(Y_test, Y_pred))",
      "metadata": {
        "trusted": true
      },
      "outputs": [
        {
          "name": "stdout",
          "output_type": "stream",
          "text": "0.7558321500826953\n12.39841560045499\n"
        }
      ],
      "execution_count": 61
    },
    {
      "id": "e98ce154-bd40-4d98-ae43-673260da7509",
      "cell_type": "code",
      "source": "import pickle\n\nwith open('pipe.pkl', 'wb') as f:\n    pickle.dump(pipe, f)",
      "metadata": {
        "trusted": true
      },
      "outputs": [],
      "execution_count": 67
    },
    {
      "id": "73de58da-ff0c-406e-9e26-f424870226b2",
      "cell_type": "code",
      "source": "",
      "metadata": {
        "trusted": true
      },
      "outputs": [],
      "execution_count": null
    }
  ]
}