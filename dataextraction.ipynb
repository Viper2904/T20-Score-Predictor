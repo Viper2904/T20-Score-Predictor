{
  "metadata": {
    "kernelspec": {
      "name": "python",
      "display_name": "Python (Pyodide)",
      "language": "python"
    },
    "language_info": {
      "codemirror_mode": {
        "name": "python",
        "version": 3
      },
      "file_extension": ".py",
      "mimetype": "text/x-python",
      "name": "python",
      "nbconvert_exporter": "python",
      "pygments_lexer": "ipython3",
      "version": "3.8"
    }
  },
  "nbformat_minor": 5,
  "nbformat": 4,
  "cells": [
    {
      "id": "e6b314ff-bec0-4473-8c86-d068d8739696",
      "cell_type": "code",
      "source": "import numpy as np\nimport pandas as pd\nfrom yaml import safe_load\nimport os\nfrom tqdm import tqdm",
      "metadata": {
        "trusted": true
      },
      "outputs": [],
      "execution_count": 1
    },
    {
      "id": "f2f1793b-f719-4f41-93f7-413ae399fce1",
      "cell_type": "code",
      "source": "filenames=[]\nfor file in os.listdir('t20s'):\n    filenames.append(os.path.join('t20s',file))",
      "metadata": {
        "trusted": true
      },
      "outputs": [],
      "execution_count": 2
    },
    {
      "id": "6f1bbf6e-b3b6-4c3b-99ac-def79849fad6",
      "cell_type": "code",
      "source": "filenames[0:5]",
      "metadata": {
        "trusted": true
      },
      "outputs": [
        {
          "execution_count": 3,
          "output_type": "execute_result",
          "data": {
            "text/plain": "['t20s/1388217.yaml',\n 't20s/1388218.yaml',\n 't20s/1388219.yaml',\n 't20s/1388220.yaml',\n 't20s/1388223.yaml']"
          },
          "metadata": {}
        }
      ],
      "execution_count": 3
    },
    {
      "id": "b1f00606-e391-48c4-8139-bacf9287300c",
      "cell_type": "code",
      "source": "final_df=pd.DataFrame()\nc=1\nfor file in tqdm(filenames):\n    with open(file,'r') as f:\n        data = safe_load(f)\n        if data is not None:\n            if isinstance(data, dict):\n                data = [data]\n            df = pd.json_normalize(data)\n            df['match_id'] = c\n            final_df = pd.concat([final_df, df], ignore_index=True)\n        c+=1\nfinal_df",
      "metadata": {
        "trusted": true
      },
      "outputs": [
        {
          "name": "stderr",
          "output_type": "stream",
          "text": "<ipython-input-4-d18079cff6d7>:3: TqdmMonitorWarning: tqdm:disabling monitor support (monitor_interval = 0) due to:\ncan't start new thread\n  for file in tqdm(filenames):\n 66%|██████▋   | 1417/2135 [03:26<13:17,  1.11s/it]"
        }
      ],
      "execution_count": null
    },
    {
      "id": "948dec33-95ba-468d-a221-7ab5a22e8a3a",
      "cell_type": "code",
      "source": "backup=final_df.copy()",
      "metadata": {
        "trusted": true
      },
      "outputs": [],
      "execution_count": null
    },
    {
      "id": "f80a1ac3-7802-4b61-a511-dda9b00c9345",
      "cell_type": "code",
      "source": "final_df",
      "metadata": {
        "trusted": true,
        "scrolled": true
      },
      "outputs": [],
      "execution_count": null
    },
    {
      "id": "4d6e674f-5cee-4a21-9448-408c258e0081",
      "cell_type": "code",
      "source": "final_df.drop(columns=[\n    'meta.data_version',\n    'meta.created',\n    'meta.revision',\n    'info.outcome.bowl_out',\n    'info.bowl_out',\n    'info.supersubs.South Africa',\n    'info.subersubs.New Zealand',\n    'info.outcome.eliminator',\n    'info.outcome.result',\n    'info.outcome.method',\n    'info.neutral_venue',\n    'info.match_type_number',\n    'info.outcome.by.runs',\n    'info.outcome.by.wickets'\n],inplace=True)",
      "metadata": {
        "trusted": true
      },
      "outputs": [],
      "execution_count": null
    },
    {
      "id": "7ab2c9af-6022-4f65-8ad1-1c5395324b0f",
      "cell_type": "code",
      "source": "final_df['info.gender'].value_counts()",
      "metadata": {
        "trusted": true
      },
      "outputs": [],
      "execution_count": null
    },
    {
      "id": "26b5b4bd-ed8f-4f96-83af-2c43adc4b87a",
      "cell_type": "code",
      "source": "final_df=final_df[final_df['info.gender']=='male']\nfinal_df.drop(columns=['info.gender'],inplace=True)\nfinal_df",
      "metadata": {
        "trusted": true
      },
      "outputs": [],
      "execution_count": null
    },
    {
      "id": "5b9a3b7b-70ff-42f2-8c22-fb72aa242871",
      "cell_type": "code",
      "source": "final_df['info.match_type'].value_counts()",
      "metadata": {
        "trusted": true
      },
      "outputs": [],
      "execution_count": null
    },
    {
      "id": "f334500a-fd3c-4d67-bdc7-10a8b07e445e",
      "cell_type": "code",
      "source": "final_df['info.overs'].value_counts()",
      "metadata": {
        "trusted": true
      },
      "outputs": [],
      "execution_count": null
    },
    {
      "id": "f365325d-ac41-466f-9305-64253f62b9c3",
      "cell_type": "code",
      "source": "final_df=final_df[final_df['info.overs']==20]\nfinal_df.drop(columns=['info.overs','info.match_type'],inplace=True)\nfinal_df",
      "metadata": {
        "trusted": true
      },
      "outputs": [],
      "execution_count": null
    },
    {
      "id": "6ff546cd-61d6-48d2-b82c-a0cb2b012a22",
      "cell_type": "code",
      "source": "import pickle\npickle.dump(final_df,open('dataset_l1.pkl','wb'))",
      "metadata": {
        "trusted": true
      },
      "outputs": [],
      "execution_count": null
    },
    {
      "id": "c14a5e6a-1927-45eb-ae32-4ff98ed0c70b",
      "cell_type": "code",
      "source": "matches=pickle.load(open('dataset_l1.pkl','rb'))\nmatches",
      "metadata": {
        "trusted": true
      },
      "outputs": [],
      "execution_count": null
    },
    {
      "id": "9b2d08df-c205-43da-87f2-f9440a6dcee1",
      "cell_type": "code",
      "source": "count = 1\ndelivery_df = pd.DataFrame()\nall_data = []\n\nfor index, row in matches.iterrows():\n    if count in [75,108,150,180,268,360,443,458,584,748,982,1052,1111,1226,1345]:\n        count += 1\n        continue\n    \n    if 'innings' not in row or not row['innings'] or '1st innings' not in row['innings'][0]:\n        count += 1\n        continue\n    \n    if not row['innings'][0]['1st innings'].get('deliveries', []):\n        count += 1\n        continue\n    \n    ball_of_match = []\n    batsman = []\n    bowler = []\n    runs = []\n    player_dismissed = []\n    teams = []\n    batting_team = []\n    match_id = []\n    city = []\n    venue = []\n    \n    for ball in row['innings'][0]['1st innings']['deliveries']:\n        for key in ball.keys():\n            match_id.append(count)\n            batting_team.append(row['innings'][0]['1st innings'].get('team', 'Unknown'))\n            teams.append(row.get('info.teams', []))\n            ball_of_match.append(key)\n            batsman.append(ball[key].get('batsman', 'Unknown'))\n            bowler.append(ball[key].get('bowler', 'Unknown'))\n            \n            runs_total = 0\n            if 'runs' in ball[key] and 'total' in ball[key]['runs']:\n                runs_total = ball[key]['runs']['total']\n            runs.append(runs_total)\n            \n            city.append(row.get('info.city', 'Unknown'))\n            venue.append(row.get('info.venue', 'Unknown'))\n            \n            if 'wicket' in ball[key] and 'player_out' in ball[key]['wicket']:\n                player_dismissed.append(ball[key]['wicket']['player_out'])\n            else:\n                player_dismissed.append('0')\n    \n    loop_df = pd.DataFrame({\n        'match_id': match_id,\n        'teams': teams,\n        'batting_team': batting_team,\n        'ball': ball_of_match,\n        'batsman': batsman,\n        'bowler': bowler,\n        'runs': runs,\n        'player_dismissed': player_dismissed,\n        'city': city,\n        'venue': venue\n    })\n    all_data.append(loop_df)\n    count += 1\n\ndelivery_df = pd.concat(all_data, ignore_index=True)",
      "metadata": {
        "trusted": true
      },
      "outputs": [],
      "execution_count": null
    },
    {
      "id": "9066aaf6-1847-4fa1-a61b-34d5ce1d2c73",
      "cell_type": "code",
      "source": "delivery_df",
      "metadata": {
        "trusted": true
      },
      "outputs": [],
      "execution_count": null
    },
    {
      "id": "66371a92-6b3c-4ab5-a32d-168c652c0f65",
      "cell_type": "code",
      "source": "def bowl(row):\n    for team in row['teams']:\n        if team!=row['batting_team']:\n            return team",
      "metadata": {
        "trusted": true
      },
      "outputs": [],
      "execution_count": null
    },
    {
      "id": "94ec9217-5c7f-4a03-b72b-4ce4f9e85f35",
      "cell_type": "code",
      "source": "delivery_df['bowling_team']=delivery_df.apply(bowl,axis=1)",
      "metadata": {
        "trusted": true
      },
      "outputs": [],
      "execution_count": null
    },
    {
      "id": "29ef0a0e-8f97-4c9f-96bf-70953fb0a31a",
      "cell_type": "code",
      "source": "delivery_df",
      "metadata": {
        "trusted": true
      },
      "outputs": [],
      "execution_count": null
    },
    {
      "id": "3be5e0df-378a-4a6e-b093-3f580c6a2e92",
      "cell_type": "code",
      "source": "delivery_df.drop(columns=['teams'],inplace=True)",
      "metadata": {
        "trusted": true
      },
      "outputs": [],
      "execution_count": null
    },
    {
      "id": "7c99895e-3c0e-4525-bb45-edf1322df886",
      "cell_type": "code",
      "source": "delivery_df",
      "metadata": {
        "trusted": true
      },
      "outputs": [],
      "execution_count": null
    },
    {
      "id": "6f22529a-737d-4afd-bd7c-97d7f985e6e7",
      "cell_type": "code",
      "source": "teams=[\n    'Australia',\n    'India',\n    'Bangladesh',\n    'New Zealand',\n    'South Africa',\n    'England',\n    'West Indies',\n    'Afghanistan',\n    'Pakistan',\n    'Sri Lanka'\n]",
      "metadata": {
        "trusted": true
      },
      "outputs": [],
      "execution_count": null
    },
    {
      "id": "632428d3-513e-477e-8341-8af384779885",
      "cell_type": "code",
      "source": "delivery_df=delivery_df[delivery_df['batting_team'].isin(teams)]\ndelivery_df=delivery_df[delivery_df['bowling_team'].isin(teams)]",
      "metadata": {
        "trusted": true
      },
      "outputs": [],
      "execution_count": null
    },
    {
      "id": "d6e5adde-c789-45bd-945c-fdbb7df0cab1",
      "cell_type": "code",
      "source": "delivery_df",
      "metadata": {
        "trusted": true
      },
      "outputs": [],
      "execution_count": null
    },
    {
      "id": "56944e0d-6571-41b5-a16c-88bca886e104",
      "cell_type": "code",
      "source": "output=delivery_df[['match_id','batting_team','bowling_team','ball','runs','player_dismissed','city','venue']]",
      "metadata": {
        "trusted": true
      },
      "outputs": [],
      "execution_count": null
    },
    {
      "id": "a09f1122-1ea9-4511-90a2-7387323c3aa8",
      "cell_type": "code",
      "source": "output",
      "metadata": {
        "trusted": true
      },
      "outputs": [],
      "execution_count": null
    },
    {
      "id": "99501b01-efa0-4c9a-b006-c1a11e496012",
      "cell_type": "code",
      "source": "pickle.dump(output,open('dataset_l2.pkl','wb'))",
      "metadata": {
        "trusted": true
      },
      "outputs": [],
      "execution_count": null
    },
    {
      "id": "64064a8e-43b3-4153-9cf0-4247e047398e",
      "cell_type": "code",
      "source": "df.isnull().sum()",
      "metadata": {
        "trusted": true
      },
      "outputs": [],
      "execution_count": null
    },
    {
      "id": "5e26fd74-aeca-4714-968e-e5234bcc5b33",
      "cell_type": "code",
      "source": "df[df['city'].isnull()]['venue'].value_counts()",
      "metadata": {
        "trusted": true
      },
      "outputs": [],
      "execution_count": null
    }
  ]
}